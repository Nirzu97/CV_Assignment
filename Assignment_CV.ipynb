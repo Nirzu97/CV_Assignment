{
 "cells": [
  {
   "cell_type": "code",
   "execution_count": 1,
   "metadata": {},
   "outputs": [],
   "source": [
    "import math\n",
    "import os\n",
    "import cv2 \n",
    "import random\n",
    "import numpy as np\n",
    "from PIL import Image, ImageDraw"
   ]
  },
  {
   "cell_type": "markdown",
   "metadata": {},
   "source": [
    "## Function to find boundingbox,center and area of objects\n",
    "\n",
    "It finds top left and bottom right coordinates for bounding box around threat object and background object\n",
    "\n",
    "It finds center of background object and area of threat object and background object"
   ]
  },
  {
   "cell_type": "code",
   "execution_count": 2,
   "metadata": {},
   "outputs": [],
   "source": [
    "def boundingBox(img_name):\n",
    "    \n",
    "    img = cv2.imread(img_name,0)\n",
    "    \n",
    "    filter_img = cv2.GaussianBlur(img, (5, 5), 1.4) \n",
    "    _, thresh_img = cv2.threshold(filter_img, 245, 255, cv2.THRESH_BINARY_INV)\n",
    "    \n",
    "    contours, hierarchy = cv2.findContours(thresh_img, cv2.RETR_EXTERNAL, cv2.CHAIN_APPROX_SIMPLE)\n",
    "    max_cnt = max(contours, key = cv2.contourArea)\n",
    "    \n",
    "    left, top, right, bottom = cv2.boundingRect(max_cnt)\n",
    "    center = cv2.fitEllipse(max_cnt)\n",
    "    area = cv2.contourArea(max_cnt)\n",
    " \n",
    "    return left, top, right, bottom, center[0], area,\n",
    "    "
   ]
  },
  {
   "cell_type": "markdown",
   "metadata": {},
   "source": [
    "## Function to make transluscent mask for threat object"
   ]
  },
  {
   "cell_type": "code",
   "execution_count": 3,
   "metadata": {},
   "outputs": [],
   "source": [
    "def translucent(img):\n",
    "    \n",
    "    numpy_img = np.array(img)  \n",
    "    cv_img = cv2.cvtColor(numpy_img, cv2.COLOR_RGB2BGR) \n",
    "    gray_img = cv2.cvtColor(cv_img, cv2.COLOR_RGB2GRAY)\n",
    "    \n",
    "    filter_img = cv2.GaussianBlur(gray_img, (5, 5), 1.4)\n",
    "    _, mask = cv2.threshold(filter_img, 245, 255, cv2.THRESH_BINARY_INV)\n",
    "    \n",
    "    mask[np.nonzero(mask)] = 150\n",
    "    \n",
    "    mask_arr = cv2.cvtColor(mask, cv2.COLOR_BGR2RGB)\n",
    "    mask_pil = Image.fromarray(mask_arr)\n",
    "   \n",
    "    return(mask_pil)"
   ]
  },
  {
   "cell_type": "markdown",
   "metadata": {},
   "source": [
    "## Find and make list of Image files for threat and background "
   ]
  },
  {
   "cell_type": "code",
   "execution_count": 4,
   "metadata": {},
   "outputs": [],
   "source": [
    "cwd = os.getcwd()\n",
    "    \n",
    "for root, dirs, files in os.walk(\".\", topdown = False):\n",
    "\n",
    "    for name in dirs:\n",
    "        if name == \"threat_images\":\n",
    "            threat_img_dir=os.path.join(root,name)\n",
    "        if name == \"background_images\":\n",
    "            bg_img_dir=os.path.join(root,name)\n",
    "            \n",
    "threat_img_list = os.listdir(threat_img_dir)\n",
    "bg_img_list = os.listdir(bg_img_dir)\n",
    "\n",
    "os.chdir(cwd)\n",
    "if not os.path.exists('result_images'):\n",
    "    os.makedirs('result_images')\n",
    "os.chdir(cwd)"
   ]
  },
  {
   "cell_type": "markdown",
   "metadata": {},
   "source": [
    "## Image processing\n"
   ]
  },
  {
   "cell_type": "code",
   "execution_count": 5,
   "metadata": {},
   "outputs": [],
   "source": [
    "for j in range(0,len(bg_img_list)):\n",
    "    \n",
    "    bg_path = os.path.join(bg_img_dir,bg_img_list[j])\n",
    "    \n",
    "    _,_,_,_,C_bg,A_bg = boundingBox(bg_path)\n",
    "    \n",
    "    resize_l = int(math.sqrt(A_bg/8))\n",
    "    img_bg = Image.open(bg_path)\n",
    "    \n",
    "    for i in range(0,len(threat_img_list)):\n",
    "\n",
    "        img_path = os.path.join(threat_img_dir,threat_img_list[i])\n",
    "\n",
    "        L_threat,T_threat,R_threat,B_threat,_,_ = boundingBox(img_path)\n",
    "        \n",
    "        img_threat = Image.open(img_path)\n",
    "        \n",
    "        random_x = random.randrange(int(C_bg[0]-resize_l/2),int(C_bg[0]+resize_l/4) , 1)\n",
    "        random_y = random.randrange(int(C_bg[1]-resize_l/2),int(C_bg[1]+resize_l/4) , 1)\n",
    "\n",
    "        crop_threat = img_threat.crop((L_threat,T_threat,L_threat+R_threat,T_threat+B_threat)) \n",
    "        rotate_threat = crop_threat.rotate(45,expand=True,fillcolor = (255,255,255))\n",
    "        resize_threat = rotate_threat.resize((resize_l,resize_l))\n",
    "        translucent_mask = translucent(resize_threat)\n",
    "        \n",
    "        img_output=img_bg.copy()\n",
    "        \n",
    "        img_output.paste(resize_threat,(random_x,random_y),translucent_mask.convert('L'))\n",
    "        \n",
    "        img_output.save(os.path.join('result_images','Output_bg'+str(j+1)+\"_th\"+str(i+1)+'.png'))\n",
    "        \n",
    "    "
   ]
  },
  {
   "cell_type": "code",
   "execution_count": null,
   "metadata": {},
   "outputs": [],
   "source": []
  },
  {
   "cell_type": "code",
   "execution_count": null,
   "metadata": {},
   "outputs": [],
   "source": []
  }
 ],
 "metadata": {
  "kernelspec": {
   "display_name": "Python 3",
   "language": "python",
   "name": "python3"
  },
  "language_info": {
   "codemirror_mode": {
    "name": "ipython",
    "version": 3
   },
   "file_extension": ".py",
   "mimetype": "text/x-python",
   "name": "python",
   "nbconvert_exporter": "python",
   "pygments_lexer": "ipython3",
   "version": "3.7.6"
  }
 },
 "nbformat": 4,
 "nbformat_minor": 2
}
